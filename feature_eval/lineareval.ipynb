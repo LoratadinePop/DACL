{
  "cells": [
    {
      "cell_type": "markdown",
      "metadata": {},
      "source": [
        "# Import packages"
      ]
    },
    {
      "cell_type": "code",
      "execution_count": 31,
      "metadata": {
        "id": "YUemQib7ZE4D"
      },
      "outputs": [],
      "source": [
        "import torch\n",
        "import sys\n",
        "import numpy as np\n",
        "import matplotlib.pyplot as plt\n",
        "import torchvision\n",
        "\n",
        "from torch.utils.data import DataLoader\n",
        "import torchvision.transforms as transforms\n",
        "from torchvision import datasets"
      ]
    },
    {
      "cell_type": "markdown",
      "metadata": {},
      "source": [
        "# Configuration"
      ]
    },
    {
      "cell_type": "code",
      "execution_count": 32,
      "metadata": {
        "colab": {
          "base_uri": "https://localhost:8080/"
        },
        "id": "lDfbL3w_Z0Od",
        "outputId": "7532966e-1c4a-4641-c928-4cda14c53389"
      },
      "outputs": [
        {
          "name": "stdout",
          "output_type": "stream",
          "text": [
            "Using device: cuda:3\n"
          ]
        }
      ],
      "source": [
        "device = 'cuda:3' if torch.cuda.is_available() else 'cpu'\n",
        "print(\"Using device:\", device)\n",
        "\n",
        "arch = 'resnet50'\n",
        "dataset_name = 'cifar10'\n",
        "\n",
        "if arch == 'resnet18':\n",
        "  model = torchvision.models.resnet18(pretrained=False, num_classes=10).to(device)\n",
        "elif arch == 'resnet50':\n",
        "  model = torchvision.models.resnet50(pretrained=False, num_classes=10).to(device)\n",
        "\n",
        "epochs = 200\n",
        "batch_size = 256\n",
        "dataset = 'cifar10'\n",
        "lr = 1e-3\n",
        "w = 0\n",
        "\n",
        "num_workers = 8"
      ]
    },
    {
      "cell_type": "markdown",
      "metadata": {},
      "source": [
        "# Prepare DataLoaders"
      ]
    },
    {
      "cell_type": "code",
      "execution_count": 33,
      "metadata": {
        "id": "BfIPl0G6_RrT"
      },
      "outputs": [],
      "source": [
        "def get_stl10_data_loaders(download, shuffle=True, batch_size=batch_size):\n",
        "  train_dataset = datasets.STL10('../dataset', split='train', download=download,\n",
        "                                  transform=transforms.ToTensor())\n",
        "\n",
        "  train_loader = DataLoader(train_dataset, batch_size=batch_size,\n",
        "                            num_workers=num_workers, drop_last=True, shuffle=shuffle)\n",
        "  \n",
        "  test_dataset = datasets.STL10('../dataset', split='test', download=download,\n",
        "                                  transform=transforms.ToTensor())\n",
        "\n",
        "  test_loader = DataLoader(test_dataset, batch_size=2*batch_size,\n",
        "                            num_workers=num_workers, drop_last=True, shuffle=shuffle)\n",
        "  return train_loader, test_loader\n",
        "\n",
        "def get_cifar10_data_loaders(download, shuffle=True, batch_size=batch_size):\n",
        "  train_dataset = datasets.CIFAR10('../dataset', train=True, download=download,\n",
        "                                  transform=transforms.ToTensor())\n",
        "\n",
        "  train_loader = DataLoader(train_dataset, batch_size=batch_size,\n",
        "                            num_workers=num_workers, drop_last=True, shuffle=shuffle)\n",
        "  \n",
        "  test_dataset = datasets.CIFAR10('../dataset', train=False, download=download,\n",
        "                                  transform=transforms.ToTensor())\n",
        "\n",
        "  test_loader = DataLoader(test_dataset, batch_size=2*batch_size,\n",
        "                            num_workers=num_workers, drop_last=True, shuffle=shuffle)\n",
        "                            \n",
        "  return train_loader, test_loader"
      ]
    },
    {
      "cell_type": "markdown",
      "metadata": {},
      "source": [
        "# Modify SimCLR's checkpoint state_dict to fit ResNet Classification Task."
      ]
    },
    {
      "cell_type": "code",
      "execution_count": 34,
      "metadata": {
        "id": "4AIfgq41GuTT"
      },
      "outputs": [],
      "source": [
        "checkpoint = torch.load('../result/checkpoint/simclr/checkpoint_0100.pth.tar', map_location=device)\n",
        "state_dict = checkpoint['state_dict']\n",
        "for k in list(state_dict.keys()):\n",
        "  if k.startswith('backbone.'):\n",
        "    if k.startswith('backbone') and not k.startswith('backbone.fc'):\n",
        "      # remove prefix\n",
        "      state_dict[k[len(\"backbone.\"):]] = state_dict[k]\n",
        "  del state_dict[k]"
      ]
    },
    {
      "cell_type": "code",
      "execution_count": 35,
      "metadata": {
        "id": "VVjA83PPJYWl"
      },
      "outputs": [],
      "source": [
        "log = model.load_state_dict(state_dict, strict=False)\n",
        "assert log.missing_keys == ['fc.weight', 'fc.bias']"
      ]
    },
    {
      "cell_type": "code",
      "execution_count": 36,
      "metadata": {
        "colab": {
          "base_uri": "https://localhost:8080/",
          "height": 117,
          "referenced_widgets": [
            "149b9ce8fb68473a837a77431c12281a",
            "88cd3db2831e4c13a4a634709700d6b2",
            "a88c31d74f5c40a2b24bcff5a35d216c",
            "60c6150177694717a622936b830427b5",
            "dba019efadee4fdc8c799f309b9a7e70",
            "5901c2829a554c8ebbd5926610088041",
            "957362a11d174407979cf17012bf9208",
            "a4f82234388e4701a02a9f68a177193a"
          ]
        },
        "id": "_GC0a14uWRr6",
        "outputId": "4c2558db-921c-425e-f947-6cc746d8c749"
      },
      "outputs": [
        {
          "name": "stdout",
          "output_type": "stream",
          "text": [
            "Files already downloaded and verified\n",
            "Files already downloaded and verified\n",
            "Dataset: cifar10\n"
          ]
        }
      ],
      "source": [
        "if dataset_name == 'cifar10':\n",
        "  train_loader, test_loader = get_cifar10_data_loaders(download=True)\n",
        "elif dataset_name == 'stl10':\n",
        "  train_loader, test_loader = get_stl10_data_loaders(download=True)\n",
        "print(\"Dataset:\", dataset_name)"
      ]
    },
    {
      "cell_type": "markdown",
      "metadata": {},
      "source": [
        "# Frozen ResNet parameter and train a classifier on its hidden representation to eval SimCLR's performance"
      ]
    },
    {
      "cell_type": "code",
      "execution_count": 37,
      "metadata": {
        "id": "pYT_KsM0Mnnr"
      },
      "outputs": [],
      "source": [
        "# freeze all layers but the last fc\n",
        "for name, param in model.named_parameters():\n",
        "    if name not in ['fc.weight', 'fc.bias']:\n",
        "        param.requires_grad = False\n",
        "\n",
        "# filter(function, iterable)\n",
        "parameters = list(filter(lambda p: p.requires_grad, model.parameters()))\n",
        "assert len(parameters) == 2  # fc.weight, fc.bias"
      ]
    },
    {
      "cell_type": "code",
      "execution_count": 38,
      "metadata": {
        "id": "aPVh1S_eMRDU"
      },
      "outputs": [],
      "source": [
        "optimizer = torch.optim.Adam(model.parameters(), lr=lr, weight_decay=w)\n",
        "criterion = torch.nn.CrossEntropyLoss().to(device)"
      ]
    },
    {
      "cell_type": "code",
      "execution_count": 39,
      "metadata": {
        "id": "edr6RhP2PdVq"
      },
      "outputs": [],
      "source": [
        "def accuracy(output, target, topk=(1,)):\n",
        "    \"\"\"Computes the accuracy over the k top predictions for the specified values of k\"\"\"\n",
        "    with torch.no_grad():\n",
        "        maxk = max(topk)\n",
        "        batch_size = target.size(0)\n",
        "\n",
        "        _, pred = output.topk(maxk, 1, True, True)\n",
        "        pred = pred.t()\n",
        "        correct = pred.eq(target.view(1, -1).expand_as(pred))\n",
        "\n",
        "        res = []\n",
        "        for k in topk:\n",
        "            correct_k = correct[:k].reshape(-1).float().sum(0, keepdim=True)\n",
        "            res.append(correct_k.mul_(100.0 / batch_size))\n",
        "        return res"
      ]
    },
    {
      "cell_type": "code",
      "execution_count": 40,
      "metadata": {
        "colab": {
          "base_uri": "https://localhost:8080/"
        },
        "id": "qOder0dAMI7X",
        "outputId": "5f723b91-5a5e-43eb-ca01-a9b5ae2f1346"
      },
      "outputs": [
        {
          "name": "stdout",
          "output_type": "stream",
          "text": [
            "Epoch 0\tTop1 Train accuracy 19.46915054321289\tTop1 Test accuracy: 20.764802932739258\tTop5 test acc: 70.09662628173828\n",
            "Epoch 1\tTop1 Train accuracy 22.23357391357422\tTop1 Test accuracy: 22.101152420043945\tTop5 test acc: 70.74424743652344\n",
            "Epoch 2\tTop1 Train accuracy 23.63381576538086\tTop1 Test accuracy: 22.1217098236084\tTop5 test acc: 70.1274642944336\n",
            "Epoch 3\tTop1 Train accuracy 24.65544891357422\tTop1 Test accuracy: 22.399259567260742\tTop5 test acc: 72.59457397460938\n",
            "Epoch 4\tTop1 Train accuracy 24.971956253051758\tTop1 Test accuracy: 21.96751594543457\tTop5 test acc: 72.2245101928711\n",
            "Epoch 5\tTop1 Train accuracy 25.590946197509766\tTop1 Test accuracy: 21.77220344543457\tTop5 test acc: 71.81332397460938\n",
            "Epoch 6\tTop1 Train accuracy 25.799280166625977\tTop1 Test accuracy: 22.327302932739258\tTop5 test acc: 72.09087371826172\n",
            "Epoch 7\tTop1 Train accuracy 26.34415054321289\tTop1 Test accuracy: 23.005756378173828\tTop5 test acc: 71.64884948730469\n",
            "Epoch 8\tTop1 Train accuracy 25.98357391357422\tTop1 Test accuracy: 21.6282901763916\tTop5 test acc: 70.80592346191406\n",
            "Epoch 9\tTop1 Train accuracy 26.558494567871094\tTop1 Test accuracy: 22.65625\tTop5 test acc: 72.43009948730469\n",
            "Epoch 10\tTop1 Train accuracy 26.951122283935547\tTop1 Test accuracy: 22.584293365478516\tTop5 test acc: 72.44037628173828\n",
            "Epoch 11\tTop1 Train accuracy 27.28165054321289\tTop1 Test accuracy: 22.430099487304688\tTop5 test acc: 72.09087371826172\n",
            "Epoch 12\tTop1 Train accuracy 27.365785598754883\tTop1 Test accuracy: 22.296464920043945\tTop5 test acc: 72.23478698730469\n",
            "Epoch 13\tTop1 Train accuracy 27.169471740722656\tTop1 Test accuracy: 22.265625\tTop5 test acc: 71.54605102539062\n",
            "Epoch 14\tTop1 Train accuracy 27.558094024658203\tTop1 Test accuracy: 22.193668365478516\tTop5 test acc: 71.84416198730469\n",
            "Epoch 15\tTop1 Train accuracy 27.079328536987305\tTop1 Test accuracy: 22.913240432739258\tTop5 test acc: 72.10115051269531\n",
            "Epoch 16\tTop1 Train accuracy 27.83253288269043\tTop1 Test accuracy: 22.0189151763916\tTop5 test acc: 71.6385726928711\n",
            "Epoch 17\tTop1 Train accuracy 27.876604080200195\tTop1 Test accuracy: 22.8515625\tTop5 test acc: 71.85443878173828\n",
            "Epoch 18\tTop1 Train accuracy 27.730369567871094\tTop1 Test accuracy: 23.129112243652344\tTop5 test acc: 71.81332397460938\n",
            "Epoch 19\tTop1 Train accuracy 27.788461685180664\tTop1 Test accuracy: 21.566612243652344\tTop5 test acc: 71.16571044921875\n",
            "Epoch 20\tTop1 Train accuracy 27.698318481445312\tTop1 Test accuracy: 22.810443878173828\tTop5 test acc: 71.85443878173828\n",
            "Epoch 21\tTop1 Train accuracy 28.289262771606445\tTop1 Test accuracy: 21.792762756347656\tTop5 test acc: 71.85443878173828\n",
            "Epoch 22\tTop1 Train accuracy 27.94270896911621\tTop1 Test accuracy: 22.203947067260742\tTop5 test acc: 71.79276275634766\n",
            "Epoch 23\tTop1 Train accuracy 27.976762771606445\tTop1 Test accuracy: 23.283306121826172\tTop5 test acc: 71.484375\n",
            "Epoch 24\tTop1 Train accuracy 27.890625\tTop1 Test accuracy: 22.4095401763916\tTop5 test acc: 71.96751403808594\n",
            "Epoch 25\tTop1 Train accuracy 27.684295654296875\tTop1 Test accuracy: 22.687089920043945\tTop5 test acc: 71.42269897460938\n",
            "Epoch 26\tTop1 Train accuracy 27.938703536987305\tTop1 Test accuracy: 21.78248405456543\tTop5 test acc: 71.65912628173828\n",
            "Epoch 27\tTop1 Train accuracy 28.10897445678711\tTop1 Test accuracy: 22.491777420043945\tTop5 test acc: 71.07318878173828\n",
            "Epoch 28\tTop1 Train accuracy 28.17708396911621\tTop1 Test accuracy: 22.625411987304688\tTop5 test acc: 71.98807525634766\n",
            "Epoch 29\tTop1 Train accuracy 27.8806095123291\tTop1 Test accuracy: 23.33470344543457\tTop5 test acc: 71.59745025634766\n",
            "Epoch 30\tTop1 Train accuracy 27.8125\tTop1 Test accuracy: 22.337581634521484\tTop5 test acc: 71.77220153808594\n",
            "Epoch 31\tTop1 Train accuracy 27.888622283935547\tTop1 Test accuracy: 22.306743621826172\tTop5 test acc: 72.0805892944336\n",
            "Epoch 32\tTop1 Train accuracy 28.133012771606445\tTop1 Test accuracy: 22.16282844543457\tTop5 test acc: 71.97779846191406\n",
            "Epoch 33\tTop1 Train accuracy 28.263221740722656\tTop1 Test accuracy: 22.0189151763916\tTop5 test acc: 72.265625\n",
            "Epoch 34\tTop1 Train accuracy 27.694311141967773\tTop1 Test accuracy: 21.833881378173828\tTop5 test acc: 71.84416198730469\n",
            "Epoch 35\tTop1 Train accuracy 28.044872283935547\tTop1 Test accuracy: 22.142269134521484\tTop5 test acc: 71.11431121826172\n",
            "Epoch 36\tTop1 Train accuracy 27.8024845123291\tTop1 Test accuracy: 22.491777420043945\tTop5 test acc: 72.14227294921875\n",
            "Epoch 37\tTop1 Train accuracy 28.533655166625977\tTop1 Test accuracy: 22.337581634521484\tTop5 test acc: 72.44037628173828\n",
            "Epoch 38\tTop1 Train accuracy 28.13501739501953\tTop1 Test accuracy: 22.378700256347656\tTop5 test acc: 71.94696044921875\n",
            "Epoch 39\tTop1 Train accuracy 28.21314239501953\tTop1 Test accuracy: 22.717927932739258\tTop5 test acc: 71.4946517944336\n",
            "Epoch 40\tTop1 Train accuracy 28.03084945678711\tTop1 Test accuracy: 22.131990432739258\tTop5 test acc: 71.54605102539062\n",
            "Epoch 41\tTop1 Train accuracy 28.026844024658203\tTop1 Test accuracy: 23.077714920043945\tTop5 test acc: 72.14227294921875\n",
            "Epoch 42\tTop1 Train accuracy 28.20713233947754\tTop1 Test accuracy: 22.95435905456543\tTop5 test acc: 71.76192474365234\n",
            "Epoch 43\tTop1 Train accuracy 27.776443481445312\tTop1 Test accuracy: 22.378700256347656\tTop5 test acc: 72.6459732055664\n",
            "Epoch 44\tTop1 Train accuracy 28.100961685180664\tTop1 Test accuracy: 21.833881378173828\tTop5 test acc: 72.11143493652344\n",
            "Epoch 45\tTop1 Train accuracy 27.994792938232422\tTop1 Test accuracy: 22.75904655456543\tTop5 test acc: 71.06291198730469\n",
            "Epoch 46\tTop1 Train accuracy 28.159055709838867\tTop1 Test accuracy: 20.80592155456543\tTop5 test acc: 70.52837371826172\n",
            "Epoch 47\tTop1 Train accuracy 27.66626739501953\tTop1 Test accuracy: 22.388980865478516\tTop5 test acc: 71.81332397460938\n",
            "Epoch 48\tTop1 Train accuracy 27.84855842590332\tTop1 Test accuracy: 22.502056121826172\tTop5 test acc: 70.42557525634766\n",
            "Epoch 49\tTop1 Train accuracy 27.96274185180664\tTop1 Test accuracy: 22.697368621826172\tTop5 test acc: 71.6796875\n",
            "Epoch 50\tTop1 Train accuracy 27.982772827148438\tTop1 Test accuracy: 20.79564094543457\tTop5 test acc: 71.17598724365234\n",
            "Epoch 51\tTop1 Train accuracy 27.994792938232422\tTop1 Test accuracy: 22.430099487304688\tTop5 test acc: 71.59745025634766\n",
            "Epoch 52\tTop1 Train accuracy 28.042869567871094\tTop1 Test accuracy: 22.4095401763916\tTop5 test acc: 71.90583801269531\n",
            "Epoch 53\tTop1 Train accuracy 28.205129623413086\tTop1 Test accuracy: 22.872121810913086\tTop5 test acc: 71.6694107055664\n",
            "Epoch 54\tTop1 Train accuracy 28.299280166625977\tTop1 Test accuracy: 22.2142276763916\tTop5 test acc: 71.30962371826172\n",
            "Epoch 55\tTop1 Train accuracy 27.984777450561523\tTop1 Test accuracy: 21.854440689086914\tTop5 test acc: 71.53577423095703\n",
            "Epoch 56\tTop1 Train accuracy 28.19110679626465\tTop1 Test accuracy: 21.761924743652344\tTop5 test acc: 71.875\n",
            "Epoch 57\tTop1 Train accuracy 28.12900733947754\tTop1 Test accuracy: 22.152549743652344\tTop5 test acc: 71.34046173095703\n",
            "Epoch 58\tTop1 Train accuracy 28.26923179626465\tTop1 Test accuracy: 22.6048526763916\tTop5 test acc: 71.98807525634766\n",
            "Epoch 59\tTop1 Train accuracy 28.469552993774414\tTop1 Test accuracy: 23.0982723236084\tTop5 test acc: 71.72080993652344\n",
            "Epoch 60\tTop1 Train accuracy 28.054887771606445\tTop1 Test accuracy: 22.56373405456543\tTop5 test acc: 71.35073852539062\n",
            "Epoch 61\tTop1 Train accuracy 28.273237228393555\tTop1 Test accuracy: 21.09375\tTop5 test acc: 70.93955993652344\n",
            "Epoch 62\tTop1 Train accuracy 28.20713233947754\tTop1 Test accuracy: 22.347862243652344\tTop5 test acc: 72.73848724365234\n",
            "Epoch 63\tTop1 Train accuracy 28.10897445678711\tTop1 Test accuracy: 22.183387756347656\tTop5 test acc: 71.03207397460938\n",
            "Epoch 64\tTop1 Train accuracy 28.359375\tTop1 Test accuracy: 23.118831634521484\tTop5 test acc: 71.70024871826172\n",
            "Epoch 65\tTop1 Train accuracy 28.307292938232422\tTop1 Test accuracy: 22.4609375\tTop5 test acc: 72.28618621826172\n",
            "Epoch 66\tTop1 Train accuracy 28.09294891357422\tTop1 Test accuracy: 22.0189151763916\tTop5 test acc: 72.51233673095703\n",
            "Epoch 67\tTop1 Train accuracy 28.19711685180664\tTop1 Test accuracy: 22.36842155456543\tTop5 test acc: 72.2553482055664\n",
            "Epoch 68\tTop1 Train accuracy 28.267229080200195\tTop1 Test accuracy: 22.645971298217773\tTop5 test acc: 70.8573226928711\n",
            "Epoch 69\tTop1 Train accuracy 28.064905166625977\tTop1 Test accuracy: 22.17310905456543\tTop5 test acc: 71.61801147460938\n",
            "Epoch 70\tTop1 Train accuracy 27.976762771606445\tTop1 Test accuracy: 22.789884567260742\tTop5 test acc: 71.2479476928711\n",
            "Epoch 71\tTop1 Train accuracy 28.403446197509766\tTop1 Test accuracy: 23.108552932739258\tTop5 test acc: 70.8573226928711\n",
            "Epoch 72\tTop1 Train accuracy 28.21314239501953\tTop1 Test accuracy: 22.101152420043945\tTop5 test acc: 71.01151275634766\n",
            "Epoch 73\tTop1 Train accuracy 28.233173370361328\tTop1 Test accuracy: 22.090871810913086\tTop5 test acc: 71.80303955078125\n",
            "Epoch 74\tTop1 Train accuracy 28.183094024658203\tTop1 Test accuracy: 21.443256378173828\tTop5 test acc: 71.36102294921875\n",
            "Epoch 75\tTop1 Train accuracy 28.155048370361328\tTop1 Test accuracy: 22.676809310913086\tTop5 test acc: 71.79276275634766\n",
            "Epoch 76\tTop1 Train accuracy 28.19711685180664\tTop1 Test accuracy: 22.008634567260742\tTop5 test acc: 70.79563903808594\n",
            "Epoch 77\tTop1 Train accuracy 28.237180709838867\tTop1 Test accuracy: 21.165706634521484\tTop5 test acc: 71.31990051269531\n",
            "Epoch 78\tTop1 Train accuracy 28.33333396911621\tTop1 Test accuracy: 23.54029655456543\tTop5 test acc: 71.95723724365234\n",
            "Epoch 79\tTop1 Train accuracy 28.373397827148438\tTop1 Test accuracy: 22.7076473236084\tTop5 test acc: 71.60772705078125\n",
            "Epoch 80\tTop1 Train accuracy 28.000802993774414\tTop1 Test accuracy: 21.957237243652344\tTop5 test acc: 72.4609375\n",
            "Epoch 81\tTop1 Train accuracy 27.980770111083984\tTop1 Test accuracy: 22.193668365478516\tTop5 test acc: 71.64884948730469\n",
            "Epoch 82\tTop1 Train accuracy 27.82251739501953\tTop1 Test accuracy: 21.895559310913086\tTop5 test acc: 71.07318878173828\n",
            "Epoch 83\tTop1 Train accuracy 28.147035598754883\tTop1 Test accuracy: 22.029193878173828\tTop5 test acc: 72.11143493652344\n",
            "Epoch 84\tTop1 Train accuracy 27.998798370361328\tTop1 Test accuracy: 21.844161987304688\tTop5 test acc: 71.8647232055664\n",
            "Epoch 85\tTop1 Train accuracy 28.167068481445312\tTop1 Test accuracy: 22.142269134521484\tTop5 test acc: 72.01891326904297\n",
            "Epoch 86\tTop1 Train accuracy 28.185096740722656\tTop1 Test accuracy: 22.779605865478516\tTop5 test acc: 72.10115051269531\n",
            "Epoch 87\tTop1 Train accuracy 28.068910598754883\tTop1 Test accuracy: 22.5123348236084\tTop5 test acc: 72.16282653808594\n",
            "Epoch 88\tTop1 Train accuracy 28.267229080200195\tTop1 Test accuracy: 22.142269134521484\tTop5 test acc: 71.22738647460938\n",
            "Epoch 89\tTop1 Train accuracy 28.01482391357422\tTop1 Test accuracy: 22.872121810913086\tTop5 test acc: 71.36102294921875\n",
            "Epoch 90\tTop1 Train accuracy 28.497596740722656\tTop1 Test accuracy: 22.296464920043945\tTop5 test acc: 71.95723724365234\n",
            "Epoch 91\tTop1 Train accuracy 28.309295654296875\tTop1 Test accuracy: 22.522615432739258\tTop5 test acc: 71.55633544921875\n",
            "Epoch 92\tTop1 Train accuracy 28.22716522216797\tTop1 Test accuracy: 21.792762756347656\tTop5 test acc: 72.00863647460938\n",
            "Epoch 93\tTop1 Train accuracy 28.289262771606445\tTop1 Test accuracy: 21.504934310913086\tTop5 test acc: 71.8338851928711\n",
            "Epoch 94\tTop1 Train accuracy 27.69230842590332\tTop1 Test accuracy: 22.574012756347656\tTop5 test acc: 71.37129974365234\n",
            "Epoch 95\tTop1 Train accuracy 28.000802993774414\tTop1 Test accuracy: 22.47121810913086\tTop5 test acc: 71.52549743652344\n",
            "Epoch 96\tTop1 Train accuracy 28.11899185180664\tTop1 Test accuracy: 22.0189151763916\tTop5 test acc: 71.77220153808594\n",
            "Epoch 97\tTop1 Train accuracy 28.068910598754883\tTop1 Test accuracy: 22.08059310913086\tTop5 test acc: 71.6694107055664\n",
            "Epoch 98\tTop1 Train accuracy 28.03084945678711\tTop1 Test accuracy: 22.481496810913086\tTop5 test acc: 72.12171173095703\n",
            "Epoch 99\tTop1 Train accuracy 28.169071197509766\tTop1 Test accuracy: 22.717927932739258\tTop5 test acc: 71.2890625\n",
            "Epoch 100\tTop1 Train accuracy 28.467548370361328\tTop1 Test accuracy: 22.728206634521484\tTop5 test acc: 71.4946517944336\n",
            "Epoch 101\tTop1 Train accuracy 28.37940788269043\tTop1 Test accuracy: 21.422697067260742\tTop5 test acc: 70.36389923095703\n",
            "Epoch 102\tTop1 Train accuracy 28.08694076538086\tTop1 Test accuracy: 22.635690689086914\tTop5 test acc: 71.96751403808594\n",
            "Epoch 103\tTop1 Train accuracy 27.994792938232422\tTop1 Test accuracy: 21.659128189086914\tTop5 test acc: 71.36102294921875\n",
            "Epoch 104\tTop1 Train accuracy 28.261219024658203\tTop1 Test accuracy: 22.481496810913086\tTop5 test acc: 71.875\n",
            "Epoch 105\tTop1 Train accuracy 28.443510055541992\tTop1 Test accuracy: 21.916118621826172\tTop5 test acc: 71.1040267944336\n",
            "Epoch 106\tTop1 Train accuracy 28.527645111083984\tTop1 Test accuracy: 21.751644134521484\tTop5 test acc: 71.01151275634766\n",
            "Epoch 107\tTop1 Train accuracy 28.163061141967773\tTop1 Test accuracy: 22.8001651763916\tTop5 test acc: 71.56661224365234\n",
            "Epoch 108\tTop1 Train accuracy 27.86859130859375\tTop1 Test accuracy: 21.5357723236084\tTop5 test acc: 71.2890625\n",
            "Epoch 109\tTop1 Train accuracy 28.09294891357422\tTop1 Test accuracy: 22.152549743652344\tTop5 test acc: 71.1040267944336\n",
            "Epoch 110\tTop1 Train accuracy 28.435497283935547\tTop1 Test accuracy: 21.8236026763916\tTop5 test acc: 71.875\n",
            "Epoch 111\tTop1 Train accuracy 27.938703536987305\tTop1 Test accuracy: 21.5357723236084\tTop5 test acc: 71.46381378173828\n",
            "Epoch 112\tTop1 Train accuracy 28.419471740722656\tTop1 Test accuracy: 22.8001651763916\tTop5 test acc: 71.2993392944336\n",
            "Epoch 113\tTop1 Train accuracy 28.141027450561523\tTop1 Test accuracy: 22.584293365478516\tTop5 test acc: 71.41241455078125\n",
            "Epoch 114\tTop1 Train accuracy 28.13501739501953\tTop1 Test accuracy: 22.491777420043945\tTop5 test acc: 72.37870025634766\n",
            "Epoch 115\tTop1 Train accuracy 28.12900733947754\tTop1 Test accuracy: 22.841283798217773\tTop5 test acc: 71.95723724365234\n",
            "Epoch 116\tTop1 Train accuracy 28.22315788269043\tTop1 Test accuracy: 23.118831634521484\tTop5 test acc: 71.4432601928711\n",
            "Epoch 117\tTop1 Train accuracy 28.11298179626465\tTop1 Test accuracy: 21.936677932739258\tTop5 test acc: 71.00123596191406\n",
            "Epoch 118\tTop1 Train accuracy 27.96875\tTop1 Test accuracy: 21.96751594543457\tTop5 test acc: 71.74136352539062\n",
            "Epoch 119\tTop1 Train accuracy 28.273237228393555\tTop1 Test accuracy: 22.543174743652344\tTop5 test acc: 71.45353698730469\n",
            "Epoch 120\tTop1 Train accuracy 28.2712345123291\tTop1 Test accuracy: 22.049753189086914\tTop5 test acc: 71.8647232055664\n",
            "Epoch 121\tTop1 Train accuracy 28.05088233947754\tTop1 Test accuracy: 21.124589920043945\tTop5 test acc: 71.95723724365234\n",
            "Epoch 122\tTop1 Train accuracy 28.231170654296875\tTop1 Test accuracy: 21.6796875\tTop5 test acc: 71.53577423095703\n",
            "Epoch 123\tTop1 Train accuracy 28.28525733947754\tTop1 Test accuracy: 22.16282844543457\tTop5 test acc: 71.95723724365234\n",
            "Epoch 124\tTop1 Train accuracy 28.309295654296875\tTop1 Test accuracy: 21.700246810913086\tTop5 test acc: 71.6796875\n",
            "Epoch 125\tTop1 Train accuracy 28.267229080200195\tTop1 Test accuracy: 22.378700256347656\tTop5 test acc: 71.35073852539062\n",
            "Epoch 126\tTop1 Train accuracy 28.28525733947754\tTop1 Test accuracy: 22.820724487304688\tTop5 test acc: 71.62828826904297\n",
            "Epoch 127\tTop1 Train accuracy 28.357372283935547\tTop1 Test accuracy: 22.347862243652344\tTop5 test acc: 70.91899871826172\n",
            "Epoch 128\tTop1 Train accuracy 28.074920654296875\tTop1 Test accuracy: 22.347862243652344\tTop5 test acc: 71.60772705078125\n",
            "Epoch 129\tTop1 Train accuracy 28.70793342590332\tTop1 Test accuracy: 21.2376651763916\tTop5 test acc: 71.6385726928711\n",
            "Epoch 130\tTop1 Train accuracy 28.46154022216797\tTop1 Test accuracy: 22.47121810913086\tTop5 test acc: 72.43009948730469\n",
            "Epoch 131\tTop1 Train accuracy 28.277244567871094\tTop1 Test accuracy: 22.27590560913086\tTop5 test acc: 70.86759948730469\n",
            "Epoch 132\tTop1 Train accuracy 28.11899185180664\tTop1 Test accuracy: 22.913240432739258\tTop5 test acc: 71.70024871826172\n",
            "Epoch 133\tTop1 Train accuracy 28.064905166625977\tTop1 Test accuracy: 22.286184310913086\tTop5 test acc: 72.0805892944336\n",
            "Epoch 134\tTop1 Train accuracy 28.19711685180664\tTop1 Test accuracy: 22.008634567260742\tTop5 test acc: 70.17886352539062\n",
            "Epoch 135\tTop1 Train accuracy 28.217147827148438\tTop1 Test accuracy: 22.74876594543457\tTop5 test acc: 71.8852767944336\n",
            "Epoch 136\tTop1 Train accuracy 28.439504623413086\tTop1 Test accuracy: 22.66653060913086\tTop5 test acc: 71.45353698730469\n",
            "Epoch 137\tTop1 Train accuracy 28.06690788269043\tTop1 Test accuracy: 22.378700256347656\tTop5 test acc: 71.96751403808594\n",
            "Epoch 138\tTop1 Train accuracy 28.351362228393555\tTop1 Test accuracy: 22.892681121826172\tTop5 test acc: 71.20682525634766\n",
            "Epoch 139\tTop1 Train accuracy 28.08293342590332\tTop1 Test accuracy: 21.49465560913086\tTop5 test acc: 71.13487243652344\n",
            "Epoch 140\tTop1 Train accuracy 28.277244567871094\tTop1 Test accuracy: 22.491777420043945\tTop5 test acc: 71.54605102539062\n",
            "Epoch 141\tTop1 Train accuracy 27.980770111083984\tTop1 Test accuracy: 21.792762756347656\tTop5 test acc: 72.2553482055664\n",
            "Epoch 142\tTop1 Train accuracy 28.297277450561523\tTop1 Test accuracy: 22.738487243652344\tTop5 test acc: 71.91612243652344\n",
            "Epoch 143\tTop1 Train accuracy 28.511619567871094\tTop1 Test accuracy: 21.946956634521484\tTop5 test acc: 70.23026275634766\n",
            "Epoch 144\tTop1 Train accuracy 28.23918342590332\tTop1 Test accuracy: 21.833881378173828\tTop5 test acc: 71.57688903808594\n",
            "Epoch 145\tTop1 Train accuracy 28.459535598754883\tTop1 Test accuracy: 22.440378189086914\tTop5 test acc: 72.14227294921875\n",
            "Epoch 146\tTop1 Train accuracy 27.940706253051758\tTop1 Test accuracy: 22.728206634521484\tTop5 test acc: 71.2479476928711\n",
            "Epoch 147\tTop1 Train accuracy 28.04086685180664\tTop1 Test accuracy: 22.841283798217773\tTop5 test acc: 70.78536224365234\n",
            "Epoch 148\tTop1 Train accuracy 28.307292938232422\tTop1 Test accuracy: 21.648849487304688\tTop5 test acc: 72.28618621826172\n",
            "Epoch 149\tTop1 Train accuracy 28.485578536987305\tTop1 Test accuracy: 22.450658798217773\tTop5 test acc: 71.65912628173828\n",
            "Epoch 150\tTop1 Train accuracy 28.387420654296875\tTop1 Test accuracy: 21.474096298217773\tTop5 test acc: 72.20394897460938\n",
            "Epoch 151\tTop1 Train accuracy 27.850561141967773\tTop1 Test accuracy: 21.49465560913086\tTop5 test acc: 70.67228698730469\n",
            "Epoch 152\tTop1 Train accuracy 28.074920654296875\tTop1 Test accuracy: 22.974918365478516\tTop5 test acc: 72.0600357055664\n",
            "Epoch 153\tTop1 Train accuracy 27.998798370361328\tTop1 Test accuracy: 23.0982723236084\tTop5 test acc: 71.6385726928711\n",
            "Epoch 154\tTop1 Train accuracy 28.211137771606445\tTop1 Test accuracy: 22.337581634521484\tTop5 test acc: 71.50493621826172\n",
            "Epoch 155\tTop1 Train accuracy 28.29126739501953\tTop1 Test accuracy: 22.378700256347656\tTop5 test acc: 71.85443878173828\n",
            "Epoch 156\tTop1 Train accuracy 28.251203536987305\tTop1 Test accuracy: 22.1217098236084\tTop5 test acc: 70.80592346191406\n",
            "Epoch 157\tTop1 Train accuracy 28.309295654296875\tTop1 Test accuracy: 22.039474487304688\tTop5 test acc: 70.91899871826172\n",
            "Epoch 158\tTop1 Train accuracy 27.886619567871094\tTop1 Test accuracy: 21.844161987304688\tTop5 test acc: 71.6899642944336\n",
            "Epoch 159\tTop1 Train accuracy 27.876604080200195\tTop1 Test accuracy: 22.347862243652344\tTop5 test acc: 71.62828826904297\n",
            "Epoch 160\tTop1 Train accuracy 28.465545654296875\tTop1 Test accuracy: 22.419818878173828\tTop5 test acc: 71.4740982055664\n",
            "Epoch 161\tTop1 Train accuracy 28.22315788269043\tTop1 Test accuracy: 21.895559310913086\tTop5 test acc: 71.51521301269531\n",
            "Epoch 162\tTop1 Train accuracy 28.002805709838867\tTop1 Test accuracy: 22.574012756347656\tTop5 test acc: 70.73396301269531\n",
            "Epoch 163\tTop1 Train accuracy 28.2712345123291\tTop1 Test accuracy: 21.988075256347656\tTop5 test acc: 71.85443878173828\n",
            "Epoch 164\tTop1 Train accuracy 28.335336685180664\tTop1 Test accuracy: 22.4609375\tTop5 test acc: 71.8647232055664\n",
            "Epoch 165\tTop1 Train accuracy 28.000802993774414\tTop1 Test accuracy: 22.35814094543457\tTop5 test acc: 71.4432601928711\n",
            "Epoch 166\tTop1 Train accuracy 28.157052993774414\tTop1 Test accuracy: 22.615131378173828\tTop5 test acc: 70.82647705078125\n",
            "Epoch 167\tTop1 Train accuracy 28.018831253051758\tTop1 Test accuracy: 22.142269134521484\tTop5 test acc: 71.0834732055664\n",
            "Epoch 168\tTop1 Train accuracy 28.141027450561523\tTop1 Test accuracy: 22.183387756347656\tTop5 test acc: 71.4740982055664\n",
            "Epoch 169\tTop1 Train accuracy 28.229167938232422\tTop1 Test accuracy: 22.36842155456543\tTop5 test acc: 71.484375\n",
            "Epoch 170\tTop1 Train accuracy 28.293270111083984\tTop1 Test accuracy: 21.741365432739258\tTop5 test acc: 71.38157653808594\n",
            "Epoch 171\tTop1 Train accuracy 28.17708396911621\tTop1 Test accuracy: 22.286184310913086\tTop5 test acc: 71.74136352539062\n",
            "Epoch 172\tTop1 Train accuracy 28.261219024658203\tTop1 Test accuracy: 22.152549743652344\tTop5 test acc: 71.2890625\n",
            "Epoch 173\tTop1 Train accuracy 28.211137771606445\tTop1 Test accuracy: 22.224506378173828\tTop5 test acc: 72.36842346191406\n",
            "Epoch 174\tTop1 Train accuracy 28.147035598754883\tTop1 Test accuracy: 22.697368621826172\tTop5 test acc: 71.81332397460938\n",
            "Epoch 175\tTop1 Train accuracy 28.25520896911621\tTop1 Test accuracy: 23.005756378173828\tTop5 test acc: 71.36102294921875\n",
            "Epoch 176\tTop1 Train accuracy 27.986780166625977\tTop1 Test accuracy: 22.337581634521484\tTop5 test acc: 71.80303955078125\n",
            "Epoch 177\tTop1 Train accuracy 28.147035598754883\tTop1 Test accuracy: 21.515214920043945\tTop5 test acc: 71.11431121826172\n",
            "Epoch 178\tTop1 Train accuracy 27.908655166625977\tTop1 Test accuracy: 21.669408798217773\tTop5 test acc: 71.41241455078125\n",
            "Epoch 179\tTop1 Train accuracy 28.26923179626465\tTop1 Test accuracy: 22.388980865478516\tTop5 test acc: 71.81332397460938\n",
            "Epoch 180\tTop1 Train accuracy 28.471555709838867\tTop1 Test accuracy: 21.803043365478516\tTop5 test acc: 71.15542602539062\n",
            "Epoch 181\tTop1 Train accuracy 28.29126739501953\tTop1 Test accuracy: 23.05715560913086\tTop5 test acc: 71.20682525634766\n",
            "Epoch 182\tTop1 Train accuracy 28.006811141967773\tTop1 Test accuracy: 22.543174743652344\tTop5 test acc: 71.38157653808594\n",
            "Epoch 183\tTop1 Train accuracy 28.19711685180664\tTop1 Test accuracy: 22.728206634521484\tTop5 test acc: 71.31990051269531\n",
            "Epoch 184\tTop1 Train accuracy 28.14904022216797\tTop1 Test accuracy: 22.841283798217773\tTop5 test acc: 71.43297576904297\n",
            "Epoch 185\tTop1 Train accuracy 28.245193481445312\tTop1 Test accuracy: 23.077714920043945\tTop5 test acc: 70.75452423095703\n",
            "Epoch 186\tTop1 Train accuracy 28.155048370361328\tTop1 Test accuracy: 21.895559310913086\tTop5 test acc: 71.79276275634766\n",
            "Epoch 187\tTop1 Train accuracy 27.83253288269043\tTop1 Test accuracy: 22.95435905456543\tTop5 test acc: 71.71052551269531\n",
            "Epoch 188\tTop1 Train accuracy 28.247196197509766\tTop1 Test accuracy: 23.34498405456543\tTop5 test acc: 71.92639923095703\n",
            "Epoch 189\tTop1 Train accuracy 28.32732391357422\tTop1 Test accuracy: 22.08059310913086\tTop5 test acc: 71.31990051269531\n",
            "Epoch 190\tTop1 Train accuracy 27.95673179626465\tTop1 Test accuracy: 21.96751594543457\tTop5 test acc: 71.76192474365234\n",
            "Epoch 191\tTop1 Train accuracy 28.155048370361328\tTop1 Test accuracy: 21.720806121826172\tTop5 test acc: 71.6694107055664\n",
            "Epoch 192\tTop1 Train accuracy 28.367387771606445\tTop1 Test accuracy: 21.710527420043945\tTop5 test acc: 71.0834732055664\n",
            "Epoch 193\tTop1 Train accuracy 28.467548370361328\tTop1 Test accuracy: 22.327302932739258\tTop5 test acc: 72.35813903808594\n",
            "Epoch 194\tTop1 Train accuracy 28.381410598754883\tTop1 Test accuracy: 22.224506378173828\tTop5 test acc: 70.75452423095703\n",
            "Epoch 195\tTop1 Train accuracy 28.549680709838867\tTop1 Test accuracy: 22.152549743652344\tTop5 test acc: 71.80303955078125\n",
            "Epoch 196\tTop1 Train accuracy 27.97275733947754\tTop1 Test accuracy: 21.916118621826172\tTop5 test acc: 71.6796875\n",
            "Epoch 197\tTop1 Train accuracy 28.090946197509766\tTop1 Test accuracy: 23.3861026763916\tTop5 test acc: 71.41241455078125\n",
            "Epoch 198\tTop1 Train accuracy 28.14503288269043\tTop1 Test accuracy: 22.3170223236084\tTop5 test acc: 72.18338775634766\n",
            "Epoch 199\tTop1 Train accuracy 28.215145111083984\tTop1 Test accuracy: 22.522615432739258\tTop5 test acc: 71.71052551269531\n"
          ]
        }
      ],
      "source": [
        "for epoch in range(epochs):\n",
        "\n",
        "  model.train()\n",
        "\n",
        "  top1_train_accuracy = 0\n",
        "  \n",
        "  for counter, (x_batch, y_batch) in enumerate(train_loader):\n",
        "\n",
        "    x_batch = x_batch.to(device)\n",
        "    y_batch = y_batch.to(device)\n",
        "\n",
        "    logits = model(x_batch)\n",
        "    loss = criterion(logits, y_batch)\n",
        "    top1 = accuracy(logits, y_batch, topk=(1,))\n",
        "    top1_train_accuracy += top1[0]\n",
        "\n",
        "    optimizer.zero_grad()\n",
        "    loss.backward()\n",
        "    optimizer.step()\n",
        "\n",
        "  top1_train_accuracy /= (counter + 1)\n",
        "\n",
        "  top1_accuracy = 0\n",
        "  top5_accuracy = 0\n",
        "\n",
        "  model.eval()\n",
        "  with torch.no_grad():\n",
        "    for counter, (x_batch, y_batch) in enumerate(test_loader):\n",
        "\n",
        "      x_batch = x_batch.to(device)\n",
        "      y_batch = y_batch.to(device)\n",
        "\n",
        "      logits = model(x_batch)\n",
        "    \n",
        "      top1, top5 = accuracy(logits, y_batch, topk=(1,5))\n",
        "      top1_accuracy += top1[0]\n",
        "      top5_accuracy += top5[0]\n",
        "    \n",
        "  top1_accuracy /= (counter + 1)\n",
        "  top5_accuracy /= (counter + 1)\n",
        "  print(f\"Epoch {epoch}\\tTop1 Train accuracy {top1_train_accuracy.item()}\\tTop1 Test accuracy: {top1_accuracy.item()}\\tTop5 test acc: {top5_accuracy.item()}\")"
      ]
    }
  ],
  "metadata": {
    "accelerator": "GPU",
    "colab": {
      "include_colab_link": true,
      "name": "Copy of mini-batch-logistic-regression-evaluator.ipynb",
      "provenance": []
    },
    "interpreter": {
      "hash": "e25216292d02bf44500672e9d401a59aad5b3be09f2bf77c8755263822999a2a"
    },
    "kernelspec": {
      "display_name": "pytorch",
      "language": "python",
      "name": "python3"
    },
    "language_info": {
      "codemirror_mode": {
        "name": "ipython",
        "version": 3
      },
      "file_extension": ".py",
      "mimetype": "text/x-python",
      "name": "python",
      "nbconvert_exporter": "python",
      "pygments_lexer": "ipython3",
      "version": "3.8.8"
    },
    "widgets": {
      "application/vnd.jupyter.widget-state+json": {
        "149b9ce8fb68473a837a77431c12281a": {
          "model_module": "@jupyter-widgets/controls",
          "model_name": "HBoxModel",
          "state": {
            "_dom_classes": [],
            "_model_module": "@jupyter-widgets/controls",
            "_model_module_version": "1.5.0",
            "_model_name": "HBoxModel",
            "_view_count": null,
            "_view_module": "@jupyter-widgets/controls",
            "_view_module_version": "1.5.0",
            "_view_name": "HBoxView",
            "box_style": "",
            "children": [
              "IPY_MODEL_a88c31d74f5c40a2b24bcff5a35d216c",
              "IPY_MODEL_60c6150177694717a622936b830427b5"
            ],
            "layout": "IPY_MODEL_88cd3db2831e4c13a4a634709700d6b2"
          }
        },
        "5901c2829a554c8ebbd5926610088041": {
          "model_module": "@jupyter-widgets/base",
          "model_name": "LayoutModel",
          "state": {
            "_model_module": "@jupyter-widgets/base",
            "_model_module_version": "1.2.0",
            "_model_name": "LayoutModel",
            "_view_count": null,
            "_view_module": "@jupyter-widgets/base",
            "_view_module_version": "1.2.0",
            "_view_name": "LayoutView",
            "align_content": null,
            "align_items": null,
            "align_self": null,
            "border": null,
            "bottom": null,
            "display": null,
            "flex": null,
            "flex_flow": null,
            "grid_area": null,
            "grid_auto_columns": null,
            "grid_auto_flow": null,
            "grid_auto_rows": null,
            "grid_column": null,
            "grid_gap": null,
            "grid_row": null,
            "grid_template_areas": null,
            "grid_template_columns": null,
            "grid_template_rows": null,
            "height": null,
            "justify_content": null,
            "justify_items": null,
            "left": null,
            "margin": null,
            "max_height": null,
            "max_width": null,
            "min_height": null,
            "min_width": null,
            "object_fit": null,
            "object_position": null,
            "order": null,
            "overflow": null,
            "overflow_x": null,
            "overflow_y": null,
            "padding": null,
            "right": null,
            "top": null,
            "visibility": null,
            "width": null
          }
        },
        "60c6150177694717a622936b830427b5": {
          "model_module": "@jupyter-widgets/controls",
          "model_name": "HTMLModel",
          "state": {
            "_dom_classes": [],
            "_model_module": "@jupyter-widgets/controls",
            "_model_module_version": "1.5.0",
            "_model_name": "HTMLModel",
            "_view_count": null,
            "_view_module": "@jupyter-widgets/controls",
            "_view_module_version": "1.5.0",
            "_view_name": "HTMLView",
            "description": "",
            "description_tooltip": null,
            "layout": "IPY_MODEL_a4f82234388e4701a02a9f68a177193a",
            "placeholder": "​",
            "style": "IPY_MODEL_957362a11d174407979cf17012bf9208",
            "value": " 2640404480/? [00:51&lt;00:00, 32685718.58it/s]"
          }
        },
        "88cd3db2831e4c13a4a634709700d6b2": {
          "model_module": "@jupyter-widgets/base",
          "model_name": "LayoutModel",
          "state": {
            "_model_module": "@jupyter-widgets/base",
            "_model_module_version": "1.2.0",
            "_model_name": "LayoutModel",
            "_view_count": null,
            "_view_module": "@jupyter-widgets/base",
            "_view_module_version": "1.2.0",
            "_view_name": "LayoutView",
            "align_content": null,
            "align_items": null,
            "align_self": null,
            "border": null,
            "bottom": null,
            "display": null,
            "flex": null,
            "flex_flow": null,
            "grid_area": null,
            "grid_auto_columns": null,
            "grid_auto_flow": null,
            "grid_auto_rows": null,
            "grid_column": null,
            "grid_gap": null,
            "grid_row": null,
            "grid_template_areas": null,
            "grid_template_columns": null,
            "grid_template_rows": null,
            "height": null,
            "justify_content": null,
            "justify_items": null,
            "left": null,
            "margin": null,
            "max_height": null,
            "max_width": null,
            "min_height": null,
            "min_width": null,
            "object_fit": null,
            "object_position": null,
            "order": null,
            "overflow": null,
            "overflow_x": null,
            "overflow_y": null,
            "padding": null,
            "right": null,
            "top": null,
            "visibility": null,
            "width": null
          }
        },
        "957362a11d174407979cf17012bf9208": {
          "model_module": "@jupyter-widgets/controls",
          "model_name": "DescriptionStyleModel",
          "state": {
            "_model_module": "@jupyter-widgets/controls",
            "_model_module_version": "1.5.0",
            "_model_name": "DescriptionStyleModel",
            "_view_count": null,
            "_view_module": "@jupyter-widgets/base",
            "_view_module_version": "1.2.0",
            "_view_name": "StyleView",
            "description_width": ""
          }
        },
        "a4f82234388e4701a02a9f68a177193a": {
          "model_module": "@jupyter-widgets/base",
          "model_name": "LayoutModel",
          "state": {
            "_model_module": "@jupyter-widgets/base",
            "_model_module_version": "1.2.0",
            "_model_name": "LayoutModel",
            "_view_count": null,
            "_view_module": "@jupyter-widgets/base",
            "_view_module_version": "1.2.0",
            "_view_name": "LayoutView",
            "align_content": null,
            "align_items": null,
            "align_self": null,
            "border": null,
            "bottom": null,
            "display": null,
            "flex": null,
            "flex_flow": null,
            "grid_area": null,
            "grid_auto_columns": null,
            "grid_auto_flow": null,
            "grid_auto_rows": null,
            "grid_column": null,
            "grid_gap": null,
            "grid_row": null,
            "grid_template_areas": null,
            "grid_template_columns": null,
            "grid_template_rows": null,
            "height": null,
            "justify_content": null,
            "justify_items": null,
            "left": null,
            "margin": null,
            "max_height": null,
            "max_width": null,
            "min_height": null,
            "min_width": null,
            "object_fit": null,
            "object_position": null,
            "order": null,
            "overflow": null,
            "overflow_x": null,
            "overflow_y": null,
            "padding": null,
            "right": null,
            "top": null,
            "visibility": null,
            "width": null
          }
        },
        "a88c31d74f5c40a2b24bcff5a35d216c": {
          "model_module": "@jupyter-widgets/controls",
          "model_name": "FloatProgressModel",
          "state": {
            "_dom_classes": [],
            "_model_module": "@jupyter-widgets/controls",
            "_model_module_version": "1.5.0",
            "_model_name": "FloatProgressModel",
            "_view_count": null,
            "_view_module": "@jupyter-widgets/controls",
            "_view_module_version": "1.5.0",
            "_view_name": "ProgressView",
            "bar_style": "info",
            "description": "",
            "description_tooltip": null,
            "layout": "IPY_MODEL_5901c2829a554c8ebbd5926610088041",
            "max": 1,
            "min": 0,
            "orientation": "horizontal",
            "style": "IPY_MODEL_dba019efadee4fdc8c799f309b9a7e70",
            "value": 1
          }
        },
        "dba019efadee4fdc8c799f309b9a7e70": {
          "model_module": "@jupyter-widgets/controls",
          "model_name": "ProgressStyleModel",
          "state": {
            "_model_module": "@jupyter-widgets/controls",
            "_model_module_version": "1.5.0",
            "_model_name": "ProgressStyleModel",
            "_view_count": null,
            "_view_module": "@jupyter-widgets/base",
            "_view_module_version": "1.2.0",
            "_view_name": "StyleView",
            "bar_color": null,
            "description_width": "initial"
          }
        }
      }
    }
  },
  "nbformat": 4,
  "nbformat_minor": 0
}
